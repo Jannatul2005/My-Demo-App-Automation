{
 "cells": [
  {
   "cell_type": "code",
   "execution_count": null,
   "metadata": {},
   "outputs": [],
   "source": [
    "import pytest\n",
    "from appium import webdriver\n",
    "from appium.webdriver.common.appiumby import AppiumBy\n",
    "from appium.webdriver.webdriver import AppiumOptions\n",
    "import time"
   ]
  },
  {
   "cell_type": "code",
   "execution_count": 2,
   "metadata": {},
   "outputs": [],
   "source": [
    "# Initialize the driver\n",
    "def initialize_driver(capabilities, server_url=\"http://127.0.0.1:4723/wd/hub\"):\n",
    "    appium_options = AppiumOptions()\n",
    "    appium_options.load_capabilities(capabilities)\n",
    "    driver = webdriver.Remote(server_url, options=appium_options)\n",
    "    return driver\n",
    "# time.sleep (3)"
   ]
  },
  {
   "cell_type": "code",
   "execution_count": 3,
   "metadata": {},
   "outputs": [],
   "source": [
    "# Initialize the driver\n",
    "def initialize_driver(capabilities, server_url=\"http://127.0.0.1:4723/wd/hub\"):\n",
    "    appium_options = AppiumOptions()\n",
    "    appium_options.load_capabilities(capabilities)\n",
    "    driver = webdriver.Remote(server_url, options=appium_options)\n",
    "    return driver\n",
    "# time.sleep (3)"
   ]
  },
  {
   "cell_type": "code",
   "execution_count": 4,
   "metadata": {},
   "outputs": [
    {
     "name": "stdout",
     "output_type": "stream",
     "text": [
      "connected\n"
     ]
    }
   ],
   "source": [
    "print (\"connected\")"
   ]
  },
  {
   "cell_type": "code",
   "execution_count": 9,
   "metadata": {},
   "outputs": [],
   "source": [
    "# Login function\n",
    "def login(driver):\n",
    "    login_button = driver.find_element(AppiumBy.ACCESSIBILITY_ID, 'Log in')\n",
    "    login_button.click()\n",
    "\n",
    "    return True"
   ]
  }
 ],
 "metadata": {
  "kernelspec": {
   "display_name": "Python 3",
   "language": "python",
   "name": "python3"
  },
  "language_info": {
   "codemirror_mode": {
    "name": "ipython",
    "version": 3
   },
   "file_extension": ".py",
   "mimetype": "text/x-python",
   "name": "python",
   "nbconvert_exporter": "python",
   "pygments_lexer": "ipython3",
   "version": "3.10.11"
  }
 },
 "nbformat": 4,
 "nbformat_minor": 2
}
